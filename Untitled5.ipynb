{
  "nbformat": 4,
  "nbformat_minor": 0,
  "metadata": {
    "colab": {
      "provenance": [],
      "authorship_tag": "ABX9TyN5jrCymVUb5ZLZcDoHc0HT",
      "include_colab_link": true
    },
    "kernelspec": {
      "name": "python3",
      "display_name": "Python 3"
    },
    "language_info": {
      "name": "python"
    }
  },
  "cells": [
    {
      "cell_type": "markdown",
      "metadata": {
        "id": "view-in-github",
        "colab_type": "text"
      },
      "source": [
        "<a href=\"https://colab.research.google.com/github/BayyaChinnu4202/NLP-NO-8/blob/main/Untitled5.ipynb\" target=\"_parent\"><img src=\"https://colab.research.google.com/assets/colab-badge.svg\" alt=\"Open In Colab\"/></a>"
      ]
    },
    {
      "cell_type": "code",
      "execution_count": 2,
      "metadata": {
        "id": "7gYYF_IdqpXz"
      },
      "outputs": [],
      "source": [
        "from textblob.classifiers import NaiveBayesClassifier\n",
        "from textblob import TextBlob\n"
      ]
    },
    {
      "cell_type": "code",
      "source": [
        "train = [\n",
        "    ('I Love this sandwitch.','pos'),\n",
        "     ('This is an amazing place!', 'pos'),\n",
        "    ('I feel very good about these beers.', 'pos'),\n",
        "    ('This is my best work.', 'pos'),\n",
        "    (\"What an awesome view\", 'pos'),\n",
        "    ('I do not like this restaurant', 'neg'),\n",
        "    ('I am tired of this stuff.', 'neg'),\n",
        "    (\"I can't deal with this\", 'neg'),\n",
        "    ('He is my sworn enemy!', 'neg'),\n",
        "    ('My boss is horrible.', 'neg')\n",
        "]"
      ],
      "metadata": {
        "id": "hRNv2t0JrhcC"
      },
      "execution_count": 3,
      "outputs": []
    },
    {
      "cell_type": "code",
      "source": [
        "test = [\n",
        "    ('The beer was good.', 'pos'),\n",
        "    ('I do not enjoy my job', 'neg'),\n",
        "    (\"I ain't feeling dandy today.\", 'neg'),\n",
        "    (\"I feel amazing!\", 'pos'),\n",
        "    ('Gary is a friend of mine.', 'pos'),\n",
        "    (\"I can't believe I'm doing this.\", 'neg')\n",
        "]"
      ],
      "metadata": {
        "id": "qKvdL-merigB"
      },
      "execution_count": 4,
      "outputs": []
    },
    {
      "cell_type": "code",
      "source": [
        "!pip install textblob"
      ],
      "metadata": {
        "colab": {
          "base_uri": "https://localhost:8080/"
        },
        "id": "cIbruWy7rzG6",
        "outputId": "4b1d85b8-73b5-443b-9454-35857803162e"
      },
      "execution_count": 6,
      "outputs": [
        {
          "output_type": "stream",
          "name": "stdout",
          "text": [
            "Requirement already satisfied: textblob in /usr/local/lib/python3.10/dist-packages (0.17.1)\n",
            "Requirement already satisfied: nltk>=3.1 in /usr/local/lib/python3.10/dist-packages (from textblob) (3.8.1)\n",
            "Requirement already satisfied: click in /usr/local/lib/python3.10/dist-packages (from nltk>=3.1->textblob) (8.1.7)\n",
            "Requirement already satisfied: joblib in /usr/local/lib/python3.10/dist-packages (from nltk>=3.1->textblob) (1.3.2)\n",
            "Requirement already satisfied: regex>=2021.8.3 in /usr/local/lib/python3.10/dist-packages (from nltk>=3.1->textblob) (2023.12.25)\n",
            "Requirement already satisfied: tqdm in /usr/local/lib/python3.10/dist-packages (from nltk>=3.1->textblob) (4.66.2)\n"
          ]
        }
      ]
    },
    {
      "cell_type": "code",
      "source": [
        "import nltk"
      ],
      "metadata": {
        "id": "gEQy5cvsr6cS"
      },
      "execution_count": 8,
      "outputs": []
    },
    {
      "cell_type": "code",
      "source": [
        "!python -m textblob.download_corpora"
      ],
      "metadata": {
        "colab": {
          "base_uri": "https://localhost:8080/"
        },
        "id": "vQ_eYH_mr86K",
        "outputId": "dc916996-e09f-46a4-a8bd-162e2a720a87"
      },
      "execution_count": 9,
      "outputs": [
        {
          "output_type": "stream",
          "name": "stdout",
          "text": [
            "[nltk_data] Downloading package brown to /root/nltk_data...\n",
            "[nltk_data]   Unzipping corpora/brown.zip.\n",
            "[nltk_data] Downloading package punkt to /root/nltk_data...\n",
            "[nltk_data]   Unzipping tokenizers/punkt.zip.\n",
            "[nltk_data] Downloading package wordnet to /root/nltk_data...\n",
            "[nltk_data] Downloading package averaged_perceptron_tagger to\n",
            "[nltk_data]     /root/nltk_data...\n",
            "[nltk_data]   Unzipping taggers/averaged_perceptron_tagger.zip.\n",
            "[nltk_data] Downloading package conll2000 to /root/nltk_data...\n",
            "[nltk_data]   Unzipping corpora/conll2000.zip.\n",
            "[nltk_data] Downloading package movie_reviews to /root/nltk_data...\n",
            "[nltk_data]   Unzipping corpora/movie_reviews.zip.\n",
            "Finished.\n"
          ]
        }
      ]
    },
    {
      "cell_type": "code",
      "source": [
        "from textblob.classifiers import NaiveBayesClassifier"
      ],
      "metadata": {
        "id": "OufrPMelr2yS"
      },
      "execution_count": 7,
      "outputs": []
    },
    {
      "cell_type": "code",
      "source": [
        "\n",
        "cl = NaiveBayesClassifier(train)"
      ],
      "metadata": {
        "id": "_F6q6hHvrrLq"
      },
      "execution_count": 10,
      "outputs": []
    },
    {
      "cell_type": "code",
      "source": [
        "# Classify some text\n",
        "print(cl.classify(\"Their burgers are amazing.\"))  # \"pos\"\n",
        "print(cl.classify(\"I don't like their pizza.\"))   # \"neg\"\n",
        ""
      ],
      "metadata": {
        "colab": {
          "base_uri": "https://localhost:8080/"
        },
        "id": "GVOvf4qMsEvn",
        "outputId": "d99b6052-0ecf-4160-a52f-04c66a0ec0f7"
      },
      "execution_count": 11,
      "outputs": [
        {
          "output_type": "stream",
          "name": "stdout",
          "text": [
            "pos\n",
            "neg\n"
          ]
        }
      ]
    },
    {
      "cell_type": "code",
      "source": [
        "# Classify a TextBlob\n",
        "blob = TextBlob(\"The beer was amazing. But the hangover was horrible. \"\n",
        "                \"My boss was not pleased.\", classifier=cl)\n",
        "print(blob)\n",
        "print(blob.classify())\n"
      ],
      "metadata": {
        "colab": {
          "base_uri": "https://localhost:8080/"
        },
        "id": "yMbgZZ8dsI_v",
        "outputId": "2542f1bc-a7b7-4787-e40d-9f740ec9041f"
      },
      "execution_count": 12,
      "outputs": [
        {
          "output_type": "stream",
          "name": "stdout",
          "text": [
            "The beer was amazing. But the hangover was horrible. My boss was not pleased.\n",
            "neg\n"
          ]
        }
      ]
    },
    {
      "cell_type": "code",
      "source": [
        "for sentence in blob.sentences:\n",
        "    print(sentence)\n",
        "    print(sentence.classify())"
      ],
      "metadata": {
        "colab": {
          "base_uri": "https://localhost:8080/"
        },
        "id": "fq-20BASsMrX",
        "outputId": "681a8a73-18ab-44ac-f4fb-a7124cd3f9b3"
      },
      "execution_count": 13,
      "outputs": [
        {
          "output_type": "stream",
          "name": "stdout",
          "text": [
            "The beer was amazing.\n",
            "pos\n",
            "But the hangover was horrible.\n",
            "neg\n",
            "My boss was not pleased.\n",
            "neg\n"
          ]
        }
      ]
    },
    {
      "cell_type": "code",
      "source": [
        "# Compute accuracy\n",
        "print(\"Accuracy: {0}\".format(cl.accuracy(test)))"
      ],
      "metadata": {
        "colab": {
          "base_uri": "https://localhost:8080/"
        },
        "id": "66i5s0NJsQvP",
        "outputId": "cec8f436-5b97-4f94-93ba-e7a4cb63fcb0"
      },
      "execution_count": 14,
      "outputs": [
        {
          "output_type": "stream",
          "name": "stdout",
          "text": [
            "Accuracy: 0.8333333333333334\n"
          ]
        }
      ]
    },
    {
      "cell_type": "code",
      "source": [
        "# Show 5 most informative features\n",
        "cl.show_informative_features(5)"
      ],
      "metadata": {
        "colab": {
          "base_uri": "https://localhost:8080/"
        },
        "id": "cxSdJgn7sUJ6",
        "outputId": "4246c7b9-746a-4ff7-a909-6a7b8bb86777"
      },
      "execution_count": 15,
      "outputs": [
        {
          "output_type": "stream",
          "name": "stdout",
          "text": [
            "Most Informative Features\n",
            "          contains(this) = True              neg : pos    =      2.3 : 1.0\n",
            "          contains(this) = False             pos : neg    =      1.8 : 1.0\n",
            "          contains(This) = False             neg : pos    =      1.6 : 1.0\n",
            "            contains(an) = False             neg : pos    =      1.6 : 1.0\n",
            "             contains(I) = False             pos : neg    =      1.4 : 1.0\n"
          ]
        }
      ]
    }
  ]
}